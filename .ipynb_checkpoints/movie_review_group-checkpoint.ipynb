{
 "cells": [
  {
   "cell_type": "markdown",
   "metadata": {},
   "source": [
    "# MOVIE REVIEW"
   ]
  },
  {
   "cell_type": "code",
   "execution_count": 27,
   "metadata": {},
   "outputs": [],
   "source": [
    "#Text classification using machine learning Algorithms for BBC News\n",
    "\n",
    "import numpy as np\n",
    "from sklearn.datasets import load_files\n",
    "import sys\n",
    "from time import time\n",
    "import matplotlib.pyplot as plt\n",
    "from sklearn.feature_extraction.text import CountVectorizer\n",
    "from sklearn.feature_extraction.text import TfidfTransformer\n",
    "\n",
    "\n",
    "from sklearn import tree\n",
    "from sklearn.svm import LinearSVC\n",
    "from sklearn.linear_model import Perceptron\n",
    "from sklearn.naive_bayes import BernoulliNB, MultinomialNB\n",
    "from sklearn.neighbors import KNeighborsClassifier\n",
    "from sklearn.utils.extmath import density\n",
    "from sklearn import metrics\n",
    "from sklearn.model_selection import train_test_split\n",
    "import nltk\n"
   ]
  },
  {
   "cell_type": "markdown",
   "metadata": {},
   "source": [
    "## Fetching & Training the data"
   ]
  },
  {
   "cell_type": "code",
   "execution_count": 28,
   "metadata": {},
   "outputs": [
    {
     "name": "stdout",
     "output_type": "stream",
     "text": [
      "2000\n",
      "['neg', 'pos']\n",
      "(2000, 25279)\n",
      "data loaded\n"
     ]
    }
   ],
   "source": [
    "moviedir = r'D:\\proj\\DATASET\\movie_review'\n",
    "movie_train = load_files(moviedir, shuffle=True)\n",
    "#data Length\n",
    "print(len(movie_train.data))\n",
    "target_names=movie_train.target_names\n",
    "#column names\n",
    "print(target_names)\n",
    "movie_vec = CountVectorizer(min_df=2, tokenizer=nltk.word_tokenize)\n",
    "movie_counts = movie_vec.fit_transform(movie_train.data)\n",
    "tfidf_transformer = TfidfTransformer()\n",
    "tfidf_transformer = TfidfTransformer()\n",
    "movie_tfidf = tfidf_transformer.fit_transform(movie_counts)\n",
    "#rows and columns\n",
    "print(movie_tfidf.shape)\n",
    "\n",
    "X_train, X_test, y_train, y_test = train_test_split(\n",
    "    movie_tfidf, movie_train.target, test_size = 0.20, random_state = 12)\n",
    "\n",
    "\n",
    "print('data loaded')"
   ]
  },
  {
   "cell_type": "code",
   "execution_count": 22,
   "metadata": {},
   "outputs": [
    {
     "data": {
      "text/plain": [
       "CountVectorizer(analyzer='word', binary=False, decode_error='strict',\n",
       "                dtype=<class 'numpy.int64'>, encoding='utf-8', input='content',\n",
       "                lowercase=True, max_df=1.0, max_features=None, min_df=2,\n",
       "                ngram_range=(1, 1), preprocessor=None, stop_words=None,\n",
       "                strip_accents=None, token_pattern='(?u)\\\\b\\\\w\\\\w+\\\\b',\n",
       "                tokenizer=<function word_tokenize at 0x000001ABED3E7730>,\n",
       "                vocabulary=None)"
      ]
     },
     "execution_count": 22,
     "metadata": {},
     "output_type": "execute_result"
    }
   ],
   "source": [
    "movie_vec"
   ]
  },
  {
   "cell_type": "markdown",
   "metadata": {},
   "source": [
    "##  Using the function"
   ]
  },
  {
   "cell_type": "code",
   "execution_count": 23,
   "metadata": {},
   "outputs": [],
   "source": [
    "def benchmark(clf,name):\n",
    "    print('_' * 80)\n",
    "    print(\"Training: \")\n",
    "\t\n",
    "    t0 = time()\n",
    "    clf.fit(X_train, y_train)\n",
    "    train_time = time() - t0\n",
    "    print(\"train time: %0.3fs\" % train_time)\n",
    "\t\n",
    "    t0 = time() \n",
    "    pred = clf.predict(X_test)\n",
    "    test_time = time() - t0\n",
    "    print(\"test time:  %0.3fs\" % test_time)\n",
    "\t\n",
    "    score = metrics.accuracy_score(y_test, pred)\n",
    "    print(\"accuracy:   %0.4f\" % score)\n",
    "    print(\"\\nprecision score=%0.4f\" %metrics.precision_score(y_test,pred,average='macro'))\n",
    "    print(\"\\nRecall Score=%0.4f\" %metrics.recall_score(y_test,pred,average='macro'))\n",
    "    print(\"confusion matrix:\")\n",
    "    print(metrics.confusion_matrix(y_test, pred))\n",
    "    clf_descr = str(clf).split('(')[0]\n",
    "    class_name =str(name).split('(')[0]\n",
    "    return class_name, score,train_time, test_time"
   ]
  },
  {
   "cell_type": "markdown",
   "metadata": {},
   "source": [
    "## Printing the Results"
   ]
  },
  {
   "cell_type": "code",
   "execution_count": 24,
   "metadata": {},
   "outputs": [
    {
     "name": "stdout",
     "output_type": "stream",
     "text": [
      "================================================================================\n",
      "PPN\n",
      "________________________________________________________________________________\n",
      "Training: \n",
      "train time: 0.039s\n",
      "test time:  0.001s\n",
      "accuracy:   0.8025\n",
      "\n",
      "precision score=0.8092\n",
      "\n",
      "Recall Score=0.8046\n",
      "confusion matrix:\n",
      "[[151  55]\n",
      " [ 24 170]]\n",
      "================================================================================\n",
      "kNN\n",
      "________________________________________________________________________________\n",
      "Training: \n",
      "train time: 0.006s\n",
      "test time:  0.235s\n",
      "accuracy:   0.6075\n",
      "\n",
      "precision score=0.6802\n",
      "\n",
      "Recall Score=0.6165\n",
      "confusion matrix:\n",
      "[[ 65 141]\n",
      " [ 16 178]]\n",
      "================================================================================\n",
      "SVM\n",
      "________________________________________________________________________________\n",
      "Training: \n",
      "train time: 0.133s\n",
      "test time:  0.001s\n",
      "accuracy:   0.8375\n",
      "\n",
      "precision score=0.8389\n",
      "\n",
      "Recall Score=0.8385\n",
      "confusion matrix:\n",
      "[[166  40]\n",
      " [ 25 169]]\n",
      "================================================================================\n",
      "DT\n",
      "________________________________________________________________________________\n",
      "Training: \n",
      "train time: 1.791s\n",
      "test time:  0.009s\n",
      "accuracy:   0.6500\n",
      "\n",
      "precision score=0.6530\n",
      "\n",
      "Recall Score=0.6516\n",
      "confusion matrix:\n",
      "[[123  83]\n",
      " [ 57 137]]\n",
      "================================================================================\n",
      "M_NB\n",
      "________________________________________________________________________________\n",
      "Training: \n",
      "train time: 0.010s\n",
      "test time:  0.002s\n",
      "accuracy:   0.7900\n",
      "\n",
      "precision score=0.7902\n",
      "\n",
      "Recall Score=0.7904\n",
      "confusion matrix:\n",
      "[[160  46]\n",
      " [ 38 156]]\n",
      "================================================================================\n",
      "B_NB\n",
      "________________________________________________________________________________\n",
      "Training: \n",
      "train time: 0.018s\n",
      "test time:  0.007s\n",
      "accuracy:   0.7975\n",
      "\n",
      "precision score=0.7984\n",
      "\n",
      "Recall Score=0.7983\n",
      "confusion matrix:\n",
      "[[159  47]\n",
      " [ 34 160]]\n",
      "\n",
      "[0 1 2 3 4 5]\n",
      "[['PPN', 'kNN', 'SVM', 'DT', 'M_NB', 'B_NB'], [0.8025, 0.6075, 0.8375, 0.65, 0.79, 0.7975], [0.038977622985839844, 0.005995512008666992, 0.1327674388885498, 1.7908964157104492, 0.009992837905883789, 0.017990827560424805], [0.0009987354278564453, 0.23485136032104492, 0.0009989738464355469, 0.008995771408081055, 0.0020024776458740234, 0.006996870040893555]]\n"
     ]
    }
   ],
   "source": [
    "results = []\n",
    "#RESULTS=[NAME_OF_ALGO ACCURACY TRAIN_TIME TEST-TIME]\n",
    "for clf, name in ((Perceptron(max_iter=50, tol=1e-3),\"PPN\"),\n",
    "                   (KNeighborsClassifier(n_neighbors=10), \"kNN\"),\n",
    "                   (LinearSVC(penalty=\"l2\", dual=False,tol=1e-3),\"SVM\"),\n",
    "                   (tree.DecisionTreeClassifier(),\"DT\"),\n",
    "                   (MultinomialNB(alpha=.01),\"M_NB\"),\n",
    "                   (BernoulliNB(alpha=.01),\"B_NB\"),\n",
    "                 ):\n",
    "    print('=' * 80)\n",
    "    print(name)\n",
    "    results.append(benchmark(clf,name))\n",
    "\n",
    "indices = np.arange(len(results))\n",
    "results = [[x[i] for x in results] for i in range(4)]\n",
    "name1, score,training_time, test_time= results\n",
    "training_time = np.array(training_time) / np.max(training_time)\n",
    "test_time = np.array(test_time) / np.max(test_time)\n",
    "print()\n",
    "print(indices)\n",
    "print(results)"
   ]
  },
  {
   "cell_type": "markdown",
   "metadata": {},
   "source": [
    "## PREDICTING THE MAXIMUM ACURACY AND NAME OF THE ALGORITHM"
   ]
  },
  {
   "cell_type": "code",
   "execution_count": 25,
   "metadata": {
    "scrolled": true
   },
   "outputs": [
    {
     "name": "stdout",
     "output_type": "stream",
     "text": [
      "Maximmum accuracy is by:   SVM\n",
      "Maximmum accuracy is :   0.8375\n"
     ]
    },
    {
     "data": {
      "text/plain": [
       "['MOVIE REVIEW GROUP', 'SVM', 0.8375]"
      ]
     },
     "execution_count": 25,
     "metadata": {},
     "output_type": "execute_result"
    }
   ],
   "source": [
    "from copy import*\n",
    "def scope(word, list, indexes = None):\n",
    "    result = []\n",
    "    if not indexes:\n",
    "        indexes = []\n",
    "    for index, item in enumerate(list):\n",
    "        try:\n",
    "            current_index = indexes + [index]\n",
    "            result.append(current_index + [item.index(word)])\n",
    "        except ValueError:\n",
    "            pass\n",
    "\n",
    "        if type(item[0]) == type([]):\n",
    "            indexes.append(index)\n",
    "            result.extend(scope(word, item, copy(indexes)))\n",
    "\n",
    "    return result\n",
    "listObject12=[]\n",
    "word = max(score)\n",
    "result = scope(word,results)\n",
    "algo=result[0]\n",
    "i=algo[0]\n",
    "j=algo[1]\n",
    "k=i-1\n",
    "print('Maximmum accuracy is by:  ',results[k][j])\n",
    "print(\"Maximmum accuracy is :   %0.4f\" %max(score))\n",
    "dataset_name=\"MOVIE REVIEW GROUP\"\n",
    "algorithm=results[k][j]\n",
    "accuracy=max(score)\n",
    "listObject12.extend((dataset_name,algorithm,accuracy))\n",
    "listObject12"
   ]
  },
  {
   "cell_type": "markdown",
   "metadata": {},
   "source": [
    "## Plotting the Graph"
   ]
  },
  {
   "cell_type": "code",
   "execution_count": 26,
   "metadata": {},
   "outputs": [
    {
     "data": {
      "image/png": "[encoded data removed]",
      "text/plain": [
       "<Figure size 864x576 with 1 Axes>"
      ]
     },
     "metadata": {
      "needs_background": "light"
     },
     "output_type": "display_data"
    }
   ],
   "source": [
    "plt.figure(figsize=(12, 8))\n",
    "plt.title(\"Comparision of Classifiers\")\n",
    "plt.barh(indices, score, .2, label=\"Accuracy\", color='navy')\n",
    "plt.barh(indices + .3, training_time, .2, label=\"training time\",color='c')\n",
    "plt.barh(indices + .6, test_time, .2, label=\"test time\", color='darkorange')\n",
    "plt.yticks(())\n",
    "plt.legend(loc='best')\n",
    "plt.subplots_adjust(left=.25)\n",
    "plt.subplots_adjust(top=.95)\n",
    "plt.subplots_adjust(bottom=.05)\n",
    "\n",
    "for i, c in zip(indices, name1):\n",
    "    plt.text(-.1, i, c)\n",
    "\n",
    "plt.show()"
   ]
  },
  {
   "cell_type": "code",
   "execution_count": null,
   "metadata": {},
   "outputs": [],
   "source": []
  },
  {
   "cell_type": "code",
   "execution_count": null,
   "metadata": {},
   "outputs": [],
   "source": []
  }
 ],
 "metadata": {
  "kernelspec": {
   "display_name": "Python 3",
   "language": "python",
   "name": "python3"
  },
  "language_info": {
   "codemirror_mode": {
    "name": "ipython",
    "version": 3
   },
   "file_extension": ".py",
   "mimetype": "text/x-python",
   "name": "python",
   "nbconvert_exporter": "python",
   "pygments_lexer": "ipython3",
   "version": "3.6.8"
  }
 },
 "nbformat": 4,
 "nbformat_minor": 2
}
