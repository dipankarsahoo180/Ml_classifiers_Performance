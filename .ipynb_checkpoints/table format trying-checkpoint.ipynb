{
 "cells": [
  {
   "cell_type": "code",
   "execution_count": null,
   "metadata": {},
   "outputs": [],
   "source": [
    "from IPython.display import HTML, display\n",
    "import tabulate\n",
    "display(HTML(tabulate.tabulate(results, tablefmt='html')))\n",
    "\n",
    "\n",
    "G_np = np.array(results)\n",
    "print(G_np.shape)\n",
    "G1_np = np.array(listObject12)\n",
    "print(G1_np.shape)\n",
    "print(G1_np)\n",
    "print(G_np)\n",
    "print(results)\n",
    "\n",
    "\n",
    "\n",
    "results.append(listObject12)\n",
    "print(G_np)\n",
    "\n",
    "display(HTML(tabulate.tabulate(results, tablefmt='html')))"
   ]
  }
 ],
 "metadata": {
  "kernelspec": {
   "display_name": "Python 3",
   "language": "python",
   "name": "python3"
  },
  "language_info": {
   "codemirror_mode": {
    "name": "ipython",
    "version": 3
   },
   "file_extension": ".py",
   "mimetype": "text/x-python",
   "name": "python",
   "nbconvert_exporter": "python",
   "pygments_lexer": "ipython3",
   "version": "3.6.8"
  }
 },
 "nbformat": 4,
 "nbformat_minor": 2
}
