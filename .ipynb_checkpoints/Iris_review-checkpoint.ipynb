{
 "cells": [
  {
   "cell_type": "markdown",
   "metadata": {},
   "source": [
    "# IRIS DATA"
   ]
  },
  {
   "cell_type": "code",
   "execution_count": 1,
   "metadata": {},
   "outputs": [],
   "source": [
    "#Text classification using machine learning Algorithms for BBC News\n",
    "import pandas as pd\n",
    "import numpy as np\n",
    "import sklearn\n",
    "from sklearn.datasets import load_files\n",
    "import sys\n",
    "from time import time\n",
    "import matplotlib.pyplot as plt\n",
    "from sklearn.feature_extraction.text import CountVectorizer\n",
    "from sklearn.feature_extraction.text import TfidfVectorizer\n",
    "from sklearn.feature_extraction.text import TfidfTransformer\n",
    "from sklearn.feature_extraction.text import HashingVectorizer\n",
    "from sklearn.feature_selection import SelectFromModel\n",
    "from sklearn.feature_selection import SelectKBest, chi2\n",
    "from sklearn.linear_model import RidgeClassifier\n",
    "from sklearn import tree\n",
    "from sklearn.pipeline import Pipeline\n",
    "from sklearn.svm import LinearSVC\n",
    "from sklearn.linear_model import SGDClassifier\n",
    "from sklearn.linear_model import Perceptron\n",
    "from sklearn.linear_model import PassiveAggressiveClassifier\n",
    "from sklearn.naive_bayes import BernoulliNB, MultinomialNB\n",
    "from sklearn.neural_network import MLPClassifier\n",
    "from sklearn.neighbors import KNeighborsClassifier\n",
    "from sklearn.neighbors import NearestCentroid\n",
    "from sklearn.ensemble import RandomForestClassifier\n",
    "from sklearn.utils.extmath import density\n",
    "from sklearn import metrics\n",
    "from sklearn.model_selection import train_test_split\n",
    "import nltk"
   ]
  },
  {
   "cell_type": "markdown",
   "metadata": {},
   "source": [
    "## Fetching & Training the data"
   ]
  },
  {
   "cell_type": "code",
   "execution_count": 2,
   "metadata": {},
   "outputs": [],
   "source": [
    "bbcdir = \"C:\\\\Users\\\\deadpool\\\\Downloads\\\\irisdata\\\\8836201-6f9306ad21398ea43cba4f7d537619d0e07d5ae3\\\\iris.csv\"\n",
    "names = ['sepal-length', 'sepal-width', 'petal-length', 'petal-width', 'class']\n",
    "bbc_train = pd.read_csv(bbcdir,names=names)\n",
    "data=bbc_train['sepal-length']\n",
    "target=bbc_train['class']"
   ]
  },
  {
   "cell_type": "code",
   "execution_count": 3,
   "metadata": {},
   "outputs": [
    {
     "name": "stdout",
     "output_type": "stream",
     "text": [
      "150\n",
      "(150, 5)\n",
      "data loaded\n"
     ]
    }
   ],
   "source": [
    "print(len(data))\n",
    "array = bbc_train.values\n",
    "X = array[:,0:4]\n",
    "Y = array[:,4]\n",
    "print(bbc_train.shape)\n",
    "X_train, X_test, y_train, y_test = train_test_split(\n",
    "    X,Y, test_size = 0.20, random_state = 12)\n",
    "\n",
    "print('data loaded')"
   ]
  },
  {
   "cell_type": "code",
   "execution_count": 4,
   "metadata": {},
   "outputs": [],
   "source": [
    "#bbc_train.target_names"
   ]
  },
  {
   "cell_type": "markdown",
   "metadata": {},
   "source": [
    "##  Using the function"
   ]
  },
  {
   "cell_type": "code",
   "execution_count": 5,
   "metadata": {},
   "outputs": [],
   "source": [
    "def benchmark(clf,name):\n",
    "    print('_' * 80)\n",
    "    print(\"Training: \")\n",
    "\t\n",
    "    t0 = time()\n",
    "    clf.fit(X_train, y_train)\n",
    "    train_time = time() - t0\n",
    "    print(\"train time: %0.3fs\" % train_time)\n",
    "\t\n",
    "    t0 = time() \n",
    "    pred = clf.predict(X_test)\n",
    "    test_time = time() - t0\n",
    "    print(\"test time:  %0.3fs\" % test_time)\n",
    "\t\n",
    "    score = metrics.accuracy_score(y_test, pred)\n",
    "    kappa=metrics.cohen_kappa_score(y_test,pred)\n",
    "    print(\"accuracy:   %0.4f\" % score)\n",
    "    print(\"\\nHamming_loss=%0.4f\" %metrics.hamming_loss(y_test,pred))\n",
    "    print(\"Kappa Score:   %0.4f\" %kappa)\n",
    "    print(\"\\nprecision score=%0.4f\" %metrics.precision_score(y_test,pred,average='macro'))\n",
    "    print(\"\\nRecall Score=%0.4f\" %metrics.recall_score(y_test,pred,average='macro'))\n",
    "    print(\"\\nF1-Score score=%0.4f\" %metrics.f1_score(y_test,pred,average='macro'))\n",
    "    print(\"confusion matrix:\")\n",
    "    print(metrics.confusion_matrix(y_test, pred))\n",
    "    print()\n",
    "#     print(\"classification report:\")\n",
    "#     print(metrics.classification_report(y_test, pred,target_names=target_names))\n",
    "    clf_descr = str(clf).split('(')[0]\n",
    "    class_name =str(name).split('(')[0]\n",
    "    return class_name, score,train_time, test_time"
   ]
  },
  {
   "cell_type": "markdown",
   "metadata": {},
   "source": [
    "## Printing the Results"
   ]
  },
  {
   "cell_type": "code",
   "execution_count": 6,
   "metadata": {},
   "outputs": [
    {
     "name": "stdout",
     "output_type": "stream",
     "text": [
      "================================================================================\n",
      "Ridge\n",
      "________________________________________________________________________________\n",
      "Training: \n",
      "train time: 0.003s\n",
      "test time:  0.000s\n",
      "accuracy:   0.7667\n",
      "\n",
      "Hamming_loss=0.2333\n",
      "Kappa Score:   0.6482\n",
      "\n",
      "precision score=0.7607\n",
      "\n",
      "Recall Score=0.7500\n",
      "\n",
      "F1-Score score=0.7390\n",
      "confusion matrix:\n",
      "[[11  1  0]\n",
      " [ 0  4  5]\n",
      " [ 0  1  8]]\n",
      "\n",
      "================================================================================\n",
      "PPN\n",
      "________________________________________________________________________________\n",
      "Training: \n",
      "train time: 0.004s\n",
      "test time:  0.000s\n",
      "accuracy:   0.4000\n",
      "\n",
      "Hamming_loss=0.6000\n",
      "Kappa Score:   0.1388\n",
      "\n",
      "precision score=0.7778\n",
      "\n",
      "Recall Score=0.4352\n",
      "\n",
      "F1-Score score=0.3392\n",
      "confusion matrix:\n",
      "[[ 1 11  0]\n",
      " [ 0  9  0]\n",
      " [ 0  7  2]]\n",
      "\n",
      "================================================================================\n",
      "PA\n",
      "________________________________________________________________________________\n",
      "Training: \n",
      "train time: 0.001s\n",
      "test time:  0.000s\n",
      "accuracy:   0.7667\n",
      "\n",
      "Hamming_loss=0.2333\n",
      "Kappa Score:   0.6465\n",
      "\n",
      "precision score=0.8542\n",
      "\n",
      "Recall Score=0.7407\n",
      "\n",
      "F1-Score score=0.6945\n",
      "confusion matrix:\n",
      "[[12  0  0]\n",
      " [ 0  9  0]\n",
      " [ 0  7  2]]\n",
      "\n",
      "================================================================================\n",
      "kNN\n",
      "________________________________________________________________________________\n",
      "Training: \n",
      "train time: 0.001s\n",
      "test time:  0.004s\n",
      "accuracy:   0.9667\n",
      "\n",
      "Hamming_loss=0.0333\n",
      "Kappa Score:   0.9495\n",
      "\n",
      "precision score=0.9667\n",
      "\n",
      "Recall Score=0.9630\n",
      "\n",
      "F1-Score score=0.9628\n",
      "confusion matrix:\n",
      "[[12  0  0]\n",
      " [ 0  9  0]\n",
      " [ 0  1  8]]\n",
      "\n",
      "================================================================================\n",
      "SVM\n",
      "________________________________________________________________________________\n",
      "Training: \n",
      "train time: 0.001s\n",
      "test time:  0.000s\n",
      "accuracy:   0.9667\n",
      "\n",
      "Hamming_loss=0.0333\n",
      "Kappa Score:   0.9495\n",
      "\n",
      "precision score=0.9667\n",
      "\n",
      "Recall Score=0.9630\n",
      "\n",
      "F1-Score score=0.9628\n",
      "confusion matrix:\n",
      "[[12  0  0]\n",
      " [ 0  8  1]\n",
      " [ 0  0  9]]\n",
      "\n",
      "================================================================================\n",
      "DT\n",
      "________________________________________________________________________________\n",
      "Training: \n",
      "train time: 0.001s\n",
      "test time:  0.000s\n",
      "accuracy:   0.9333\n",
      "\n",
      "Hamming_loss=0.0667\n",
      "Kappa Score:   0.8990\n",
      "\n",
      "precision score=0.9394\n",
      "\n",
      "Recall Score=0.9259\n",
      "\n",
      "F1-Score score=0.9250\n",
      "confusion matrix:\n",
      "[[12  0  0]\n",
      " [ 0  7  2]\n",
      " [ 0  0  9]]\n",
      "\n",
      "================================================================================\n",
      "M_NB\n",
      "________________________________________________________________________________\n",
      "Training: \n",
      "train time: 0.002s\n",
      "test time:  0.000s\n",
      "accuracy:   0.9667\n",
      "\n",
      "Hamming_loss=0.0333\n",
      "Kappa Score:   0.9495\n",
      "\n",
      "precision score=0.9667\n",
      "\n",
      "Recall Score=0.9630\n",
      "\n",
      "F1-Score score=0.9628\n",
      "confusion matrix:\n",
      "[[12  0  0]\n",
      " [ 0  8  1]\n",
      " [ 0  0  9]]\n",
      "\n",
      "================================================================================\n",
      "B_NB\n",
      "________________________________________________________________________________\n",
      "Training: \n",
      "train time: 0.001s\n",
      "test time:  0.000s\n",
      "accuracy:   0.3000\n",
      "\n",
      "Hamming_loss=0.7000\n",
      "Kappa Score:   0.0000\n",
      "\n",
      "precision score=0.1000\n",
      "\n",
      "Recall Score=0.3333\n",
      "\n",
      "F1-Score score=0.1538\n",
      "confusion matrix:\n",
      "[[ 0 12  0]\n",
      " [ 0  9  0]\n",
      " [ 0  9  0]]\n",
      "\n",
      "================================================================================\n",
      "RF\n",
      "________________________________________________________________________________\n",
      "Training: \n"
     ]
    },
    {
     "name": "stderr",
     "output_type": "stream",
     "text": [
      "c:\\users\\deadpool\\appdata\\local\\programs\\python\\python36\\lib\\site-packages\\sklearn\\metrics\\classification.py:1437: UndefinedMetricWarning: Precision is ill-defined and being set to 0.0 in labels with no predicted samples.\n",
      "  'precision', 'predicted', average, warn_for)\n",
      "c:\\users\\deadpool\\appdata\\local\\programs\\python\\python36\\lib\\site-packages\\sklearn\\metrics\\classification.py:1437: UndefinedMetricWarning: F-score is ill-defined and being set to 0.0 in labels with no predicted samples.\n",
      "  'precision', 'predicted', average, warn_for)\n"
     ]
    },
    {
     "name": "stdout",
     "output_type": "stream",
     "text": [
      "train time: 0.203s\n",
      "test time:  0.016s\n",
      "accuracy:   0.9667\n",
      "\n",
      "Hamming_loss=0.0333\n",
      "Kappa Score:   0.9495\n",
      "\n",
      "precision score=0.9667\n",
      "\n",
      "Recall Score=0.9630\n",
      "\n",
      "F1-Score score=0.9628\n",
      "confusion matrix:\n",
      "[[12  0  0]\n",
      " [ 0  8  1]\n",
      " [ 0  0  9]]\n",
      "\n",
      "================================================================================\n",
      "SGd\n",
      "________________________________________________________________________________\n",
      "Training: \n",
      "train time: 0.000s\n",
      "test time:  0.000s\n",
      "accuracy:   0.7333\n",
      "\n",
      "Hamming_loss=0.2667\n",
      "Kappa Score:   0.5980\n",
      "\n",
      "precision score=0.8431\n",
      "\n",
      "Recall Score=0.7130\n",
      "\n",
      "F1-Score score=0.6708\n",
      "confusion matrix:\n",
      "[[11  1  0]\n",
      " [ 0  9  0]\n",
      " [ 0  7  2]]\n",
      "\n",
      "================================================================================\n",
      "NC\n",
      "________________________________________________________________________________\n",
      "Training: \n",
      "train time: 0.000s\n",
      "test time:  0.000s\n",
      "accuracy:   0.9000\n",
      "\n",
      "Hamming_loss=0.1000\n",
      "Kappa Score:   0.8485\n",
      "\n",
      "precision score=0.8917\n",
      "\n",
      "Recall Score=0.8889\n",
      "\n",
      "F1-Score score=0.8885\n",
      "confusion matrix:\n",
      "[[12  0  0]\n",
      " [ 0  7  2]\n",
      " [ 0  1  8]]\n",
      "\n"
     ]
    }
   ],
   "source": [
    "results = []\n",
    "#RESULTS=[NAME_OF_ALGO ACCURACY TRAIN_TIME TEST-TIME]\n",
    "for clf, name in ((RidgeClassifier(tol=1e-2, solver=\"sag\"), \"Ridge\"),\n",
    "                  (Perceptron(max_iter=50, tol=1e-3),\"PPN\"),\n",
    "                  (PassiveAggressiveClassifier(max_iter=50, tol=1e-3),\"PA\"),\n",
    "                  (KNeighborsClassifier(n_neighbors=10), \"kNN\"),\n",
    "                   (LinearSVC(penalty=\"l2\", dual=False,tol=1e-3),\"SVM\"),\n",
    "                   (tree.DecisionTreeClassifier(),\"DT\"),\n",
    "                   (MultinomialNB(alpha=.01),\"M_NB\"),\n",
    "                   (BernoulliNB(alpha=.01),\"B_NB\"),\n",
    "                  (RandomForestClassifier(n_estimators=100), \"RF\"),\n",
    "                  (SGDClassifier(alpha=.0001, max_iter=50,penalty=\"l1\"),\"SGd\"),\n",
    "                  (NearestCentroid(),\"NC\"),\n",
    "                  ##(MLPClassifier(),\"MLP\")\n",
    "                 ):\n",
    "    print('=' * 80)\n",
    "    print(name)\n",
    "    results.append(benchmark(clf,name))\n",
    "#print(\"ReSuLtS LIST IS\",results,end=\"\\n\",sep='\\n')\n",
    "\n",
    "indices = np.arange(len(results))\n",
    "results = [[x[i] for x in results] for i in range(4)]\n",
    "name1, score,training_time, test_time= results\n",
    "training_time = np.array(training_time) / np.max(training_time)\n",
    "test_time = np.array(test_time) / np.max(test_time)\n"
   ]
  },
  {
   "cell_type": "markdown",
   "metadata": {},
   "source": [
    "##  PREDICTING THE MAXIMUM ACURACY AND NAME OF THE ALGORITHM"
   ]
  },
  {
   "cell_type": "code",
   "execution_count": 7,
   "metadata": {},
   "outputs": [
    {
     "name": "stdout",
     "output_type": "stream",
     "text": [
      "Maximmum accuracy is by:   kNN\n",
      "Maximmum accuracy is :   0.9667\n"
     ]
    },
    {
     "data": {
      "text/plain": [
       "['BEST_CLF_FROM', 'IRIS DATA', 'kNN', 0.9666666666666667]"
      ]
     },
     "execution_count": 7,
     "metadata": {},
     "output_type": "execute_result"
    }
   ],
   "source": [
    "from copy import*\n",
    "def scope(word, list, indexes = None):\n",
    "    result = []\n",
    "    if not indexes:\n",
    "        indexes = []\n",
    "    for index, item in enumerate(list):\n",
    "        try:\n",
    "            current_index = indexes + [index]\n",
    "            result.append(current_index + [item.index(word)])\n",
    "        except ValueError:\n",
    "            pass\n",
    "\n",
    "        if type(item[0]) == type([]):\n",
    "            indexes.append(index)\n",
    "            result.extend(scope(word, item, copy(indexes)))\n",
    "\n",
    "    return result\n",
    "listObject12=[]\n",
    "word = max(score)\n",
    "result = scope(word,results)\n",
    "algo=result[0]\n",
    "i=algo[0]\n",
    "j=algo[1]\n",
    "k=i-1\n",
    "print('Maximmum accuracy is by:  ',results[k][j])\n",
    "print(\"Maximmum accuracy is :   %0.4f\" %max(score))\n",
    "dataset_name=\"IRIS DATA\"\n",
    "best_value=\"BEST_CLF_FROM\"\n",
    "algorithm=results[k][j]\n",
    "accuracy=max(score)\n",
    "listObject12.extend((best_value,dataset_name,algorithm,accuracy))\n",
    "listObject12"
   ]
  },
  {
   "cell_type": "code",
   "execution_count": 8,
   "metadata": {},
   "outputs": [
    {
     "data": {
      "text/html": [
       "<table>\n",
       "<tbody>\n",
       "<tr><td>Ridge               </td><td>PPN              </td><td>PA                   </td><td>kNN                  </td><td>SVM                  </td><td>DT                   </td><td>M_NB                 </td><td>B_NB                 </td><td>RF                  </td><td>SGd               </td><td>NC </td></tr>\n",
       "<tr><td>0.7666666666666667  </td><td>0.4              </td><td>0.7666666666666667   </td><td>0.9666666666666667   </td><td>0.9666666666666667   </td><td>0.9333333333333333   </td><td>0.9666666666666667   </td><td>0.3                  </td><td>0.9666666666666667  </td><td>0.7333333333333333</td><td>0.9</td></tr>\n",
       "<tr><td>0.002997875213623047</td><td>0.003997802734375</td><td>0.0010504722595214844</td><td>0.0009992122650146484</td><td>0.0009996891021728516</td><td>0.0009999275207519531</td><td>0.0019986629486083984</td><td>0.0010004043579101562</td><td>0.20308423042297363 </td><td>0.0               </td><td>0.0</td></tr>\n",
       "<tr><td>0.0                 </td><td>0.0              </td><td>0.0                  </td><td>0.003995656967163086 </td><td>0.0                  </td><td>0.0                  </td><td>0.0                  </td><td>0.0                  </td><td>0.015623807907104492</td><td>0.0               </td><td>0.0</td></tr>\n",
       "</tbody>\n",
       "</table>"
      ],
      "text/plain": [
       "<IPython.core.display.HTML object>"
      ]
     },
     "metadata": {},
     "output_type": "display_data"
    }
   ],
   "source": [
    "from IPython.display import HTML, display\n",
    "import tabulate\n",
    "display(HTML(tabulate.tabulate(results, tablefmt='html')))"
   ]
  },
  {
   "cell_type": "code",
   "execution_count": 9,
   "metadata": {},
   "outputs": [
    {
     "data": {
      "text/html": [
       "<table>\n",
       "<tbody>\n",
       "<tr><td>BEST_CLF_FROM</td><td>IRIS DATA</td><td>kNN</td><td style=\"text-align: right;\">0.966667</td></tr>\n",
       "</tbody>\n",
       "</table>"
      ],
      "text/plain": [
       "<IPython.core.display.HTML object>"
      ]
     },
     "metadata": {},
     "output_type": "display_data"
    }
   ],
   "source": [
    "display(HTML(tabulate.tabulate([listObject12], tablefmt='html')))"
   ]
  },
  {
   "cell_type": "code",
   "execution_count": 10,
   "metadata": {},
   "outputs": [
    {
     "data": {
      "text/plain": [
       "(4, 11)"
      ]
     },
     "execution_count": 10,
     "metadata": {},
     "output_type": "execute_result"
    }
   ],
   "source": [
    "G_np = np.array(results)\n",
    "G_np.shape"
   ]
  },
  {
   "cell_type": "code",
   "execution_count": 11,
   "metadata": {},
   "outputs": [
    {
     "data": {
      "text/html": [
       "<div>\n",
       "<style scoped>\n",
       "    .dataframe tbody tr th:only-of-type {\n",
       "        vertical-align: middle;\n",
       "    }\n",
       "\n",
       "    .dataframe tbody tr th {\n",
       "        vertical-align: top;\n",
       "    }\n",
       "\n",
       "    .dataframe thead th {\n",
       "        text-align: right;\n",
       "    }\n",
       "</style>\n",
       "<table border=\"1\" class=\"dataframe\">\n",
       "  <thead>\n",
       "    <tr style=\"text-align: right;\">\n",
       "      <th></th>\n",
       "      <th>NAME_OF_ALGO</th>\n",
       "      <th>ACCURACY</th>\n",
       "      <th>TRAIN_TIME</th>\n",
       "      <th>TEST_TIME</th>\n",
       "    </tr>\n",
       "  </thead>\n",
       "  <tbody>\n",
       "    <tr>\n",
       "      <th>0</th>\n",
       "      <td>Ridge</td>\n",
       "      <td>0.7666666666666667</td>\n",
       "      <td>0.002997875213623047</td>\n",
       "      <td>0.0</td>\n",
       "    </tr>\n",
       "    <tr>\n",
       "      <th>1</th>\n",
       "      <td>PPN</td>\n",
       "      <td>0.4</td>\n",
       "      <td>0.003997802734375</td>\n",
       "      <td>0.0</td>\n",
       "    </tr>\n",
       "    <tr>\n",
       "      <th>2</th>\n",
       "      <td>PA</td>\n",
       "      <td>0.7666666666666667</td>\n",
       "      <td>0.0010504722595214844</td>\n",
       "      <td>0.0</td>\n",
       "    </tr>\n",
       "    <tr>\n",
       "      <th>3</th>\n",
       "      <td>kNN</td>\n",
       "      <td>0.9666666666666667</td>\n",
       "      <td>0.0009992122650146484</td>\n",
       "      <td>0.003995656967163086</td>\n",
       "    </tr>\n",
       "    <tr>\n",
       "      <th>4</th>\n",
       "      <td>SVM</td>\n",
       "      <td>0.9666666666666667</td>\n",
       "      <td>0.0009996891021728516</td>\n",
       "      <td>0.0</td>\n",
       "    </tr>\n",
       "    <tr>\n",
       "      <th>5</th>\n",
       "      <td>DT</td>\n",
       "      <td>0.9333333333333333</td>\n",
       "      <td>0.0009999275207519531</td>\n",
       "      <td>0.0</td>\n",
       "    </tr>\n",
       "    <tr>\n",
       "      <th>6</th>\n",
       "      <td>M_NB</td>\n",
       "      <td>0.9666666666666667</td>\n",
       "      <td>0.0019986629486083984</td>\n",
       "      <td>0.0</td>\n",
       "    </tr>\n",
       "    <tr>\n",
       "      <th>7</th>\n",
       "      <td>B_NB</td>\n",
       "      <td>0.3</td>\n",
       "      <td>0.0010004043579101562</td>\n",
       "      <td>0.0</td>\n",
       "    </tr>\n",
       "    <tr>\n",
       "      <th>8</th>\n",
       "      <td>RF</td>\n",
       "      <td>0.9666666666666667</td>\n",
       "      <td>0.20308423042297363</td>\n",
       "      <td>0.015623807907104492</td>\n",
       "    </tr>\n",
       "    <tr>\n",
       "      <th>9</th>\n",
       "      <td>SGd</td>\n",
       "      <td>0.7333333333333333</td>\n",
       "      <td>0.0</td>\n",
       "      <td>0.0</td>\n",
       "    </tr>\n",
       "    <tr>\n",
       "      <th>10</th>\n",
       "      <td>NC</td>\n",
       "      <td>0.9</td>\n",
       "      <td>0.0</td>\n",
       "      <td>0.0</td>\n",
       "    </tr>\n",
       "  </tbody>\n",
       "</table>\n",
       "</div>"
      ],
      "text/plain": [
       "   NAME_OF_ALGO            ACCURACY             TRAIN_TIME  \\\n",
       "0         Ridge  0.7666666666666667   0.002997875213623047   \n",
       "1           PPN                 0.4      0.003997802734375   \n",
       "2            PA  0.7666666666666667  0.0010504722595214844   \n",
       "3           kNN  0.9666666666666667  0.0009992122650146484   \n",
       "4           SVM  0.9666666666666667  0.0009996891021728516   \n",
       "5            DT  0.9333333333333333  0.0009999275207519531   \n",
       "6          M_NB  0.9666666666666667  0.0019986629486083984   \n",
       "7          B_NB                 0.3  0.0010004043579101562   \n",
       "8            RF  0.9666666666666667    0.20308423042297363   \n",
       "9           SGd  0.7333333333333333                    0.0   \n",
       "10           NC                 0.9                    0.0   \n",
       "\n",
       "               TEST_TIME  \n",
       "0                    0.0  \n",
       "1                    0.0  \n",
       "2                    0.0  \n",
       "3   0.003995656967163086  \n",
       "4                    0.0  \n",
       "5                    0.0  \n",
       "6                    0.0  \n",
       "7                    0.0  \n",
       "8   0.015623807907104492  \n",
       "9                    0.0  \n",
       "10                   0.0  "
      ]
     },
     "execution_count": 11,
     "metadata": {},
     "output_type": "execute_result"
    }
   ],
   "source": [
    "g1=G_np.transpose()\n",
    "df=pd.DataFrame(g1,columns=['NAME_OF_ALGO', 'ACCURACY', 'TRAIN_TIME' ,'TEST_TIME',])\n",
    "df"
   ]
  },
  {
   "cell_type": "code",
   "execution_count": 12,
   "metadata": {},
   "outputs": [],
   "source": [
    "df1=pd.DataFrame(G_np)"
   ]
  },
  {
   "cell_type": "code",
   "execution_count": 13,
   "metadata": {},
   "outputs": [
    {
     "data": {
      "text/html": [
       "<div>\n",
       "<style scoped>\n",
       "    .dataframe tbody tr th:only-of-type {\n",
       "        vertical-align: middle;\n",
       "    }\n",
       "\n",
       "    .dataframe tbody tr th {\n",
       "        vertical-align: top;\n",
       "    }\n",
       "\n",
       "    .dataframe thead th {\n",
       "        text-align: right;\n",
       "    }\n",
       "</style>\n",
       "<table border=\"1\" class=\"dataframe\">\n",
       "  <thead>\n",
       "    <tr style=\"text-align: right;\">\n",
       "      <th></th>\n",
       "      <th>final</th>\n",
       "    </tr>\n",
       "  </thead>\n",
       "  <tbody>\n",
       "    <tr>\n",
       "      <th>0</th>\n",
       "      <td>BEST_CLF_FROM</td>\n",
       "    </tr>\n",
       "    <tr>\n",
       "      <th>1</th>\n",
       "      <td>IRIS DATA</td>\n",
       "    </tr>\n",
       "    <tr>\n",
       "      <th>2</th>\n",
       "      <td>kNN</td>\n",
       "    </tr>\n",
       "    <tr>\n",
       "      <th>3</th>\n",
       "      <td>0.966667</td>\n",
       "    </tr>\n",
       "  </tbody>\n",
       "</table>\n",
       "</div>"
      ],
      "text/plain": [
       "           final\n",
       "0  BEST_CLF_FROM\n",
       "1      IRIS DATA\n",
       "2            kNN\n",
       "3       0.966667"
      ]
     },
     "execution_count": 13,
     "metadata": {},
     "output_type": "execute_result"
    }
   ],
   "source": [
    "pd.DataFrame(listObject12,columns=['final'])"
   ]
  },
  {
   "cell_type": "code",
   "execution_count": 14,
   "metadata": {},
   "outputs": [
    {
     "data": {
      "text/html": [
       "<div>\n",
       "<style scoped>\n",
       "    .dataframe tbody tr th:only-of-type {\n",
       "        vertical-align: middle;\n",
       "    }\n",
       "\n",
       "    .dataframe tbody tr th {\n",
       "        vertical-align: top;\n",
       "    }\n",
       "\n",
       "    .dataframe thead th {\n",
       "        text-align: right;\n",
       "    }\n",
       "</style>\n",
       "<table border=\"1\" class=\"dataframe\">\n",
       "  <thead>\n",
       "    <tr style=\"text-align: right;\">\n",
       "      <th></th>\n",
       "      <th>0</th>\n",
       "      <th>1</th>\n",
       "      <th>2</th>\n",
       "      <th>3</th>\n",
       "      <th>4</th>\n",
       "      <th>5</th>\n",
       "      <th>6</th>\n",
       "      <th>7</th>\n",
       "      <th>8</th>\n",
       "      <th>9</th>\n",
       "      <th>10</th>\n",
       "      <th>Best Values</th>\n",
       "    </tr>\n",
       "  </thead>\n",
       "  <tbody>\n",
       "    <tr>\n",
       "      <th>0</th>\n",
       "      <td>name</td>\n",
       "      <td>PPN</td>\n",
       "      <td>PA</td>\n",
       "      <td>kNN</td>\n",
       "      <td>SVM</td>\n",
       "      <td>DT</td>\n",
       "      <td>M_NB</td>\n",
       "      <td>B_NB</td>\n",
       "      <td>RF</td>\n",
       "      <td>SGd</td>\n",
       "      <td>NC</td>\n",
       "      <td>BEST_CLF_FROM</td>\n",
       "    </tr>\n",
       "    <tr>\n",
       "      <th>1</th>\n",
       "      <td>acuracy</td>\n",
       "      <td>0.4</td>\n",
       "      <td>0.7666666666666667</td>\n",
       "      <td>0.9666666666666667</td>\n",
       "      <td>0.9666666666666667</td>\n",
       "      <td>0.9333333333333333</td>\n",
       "      <td>0.9666666666666667</td>\n",
       "      <td>0.3</td>\n",
       "      <td>0.9666666666666667</td>\n",
       "      <td>0.7333333333333333</td>\n",
       "      <td>0.9</td>\n",
       "      <td>IRIS DATA</td>\n",
       "    </tr>\n",
       "    <tr>\n",
       "      <th>2</th>\n",
       "      <td>train</td>\n",
       "      <td>0.003997802734375</td>\n",
       "      <td>0.0010504722595214844</td>\n",
       "      <td>0.0009992122650146484</td>\n",
       "      <td>0.0009996891021728516</td>\n",
       "      <td>0.0009999275207519531</td>\n",
       "      <td>0.0019986629486083984</td>\n",
       "      <td>0.0010004043579101562</td>\n",
       "      <td>0.20308423042297363</td>\n",
       "      <td>0.0</td>\n",
       "      <td>0.0</td>\n",
       "      <td>kNN</td>\n",
       "    </tr>\n",
       "    <tr>\n",
       "      <th>3</th>\n",
       "      <td>test</td>\n",
       "      <td>0.0</td>\n",
       "      <td>0.0</td>\n",
       "      <td>0.003995656967163086</td>\n",
       "      <td>0.0</td>\n",
       "      <td>0.0</td>\n",
       "      <td>0.0</td>\n",
       "      <td>0.0</td>\n",
       "      <td>0.015623807907104492</td>\n",
       "      <td>0.0</td>\n",
       "      <td>0.0</td>\n",
       "      <td>0.966667</td>\n",
       "    </tr>\n",
       "  </tbody>\n",
       "</table>\n",
       "</div>"
      ],
      "text/plain": [
       "         0                  1                      2                      3  \\\n",
       "0     name                PPN                     PA                    kNN   \n",
       "1  acuracy                0.4     0.7666666666666667     0.9666666666666667   \n",
       "2    train  0.003997802734375  0.0010504722595214844  0.0009992122650146484   \n",
       "3     test                0.0                    0.0   0.003995656967163086   \n",
       "\n",
       "                       4                      5                      6  \\\n",
       "0                    SVM                     DT                   M_NB   \n",
       "1     0.9666666666666667     0.9333333333333333     0.9666666666666667   \n",
       "2  0.0009996891021728516  0.0009999275207519531  0.0019986629486083984   \n",
       "3                    0.0                    0.0                    0.0   \n",
       "\n",
       "                       7                     8                   9   10  \\\n",
       "0                   B_NB                    RF                 SGd   NC   \n",
       "1                    0.3    0.9666666666666667  0.7333333333333333  0.9   \n",
       "2  0.0010004043579101562   0.20308423042297363                 0.0  0.0   \n",
       "3                    0.0  0.015623807907104492                 0.0  0.0   \n",
       "\n",
       "     Best Values  \n",
       "0  BEST_CLF_FROM  \n",
       "1      IRIS DATA  \n",
       "2            kNN  \n",
       "3       0.966667  "
      ]
     },
     "execution_count": 14,
     "metadata": {},
     "output_type": "execute_result"
    }
   ],
   "source": [
    "df1['Best Values']=listObject12\n",
    "df1[0]=['name','acuracy','train',\"test\"]\n",
    "df1"
   ]
  },
  {
   "cell_type": "code",
   "execution_count": 15,
   "metadata": {},
   "outputs": [
    {
     "data": {
      "text/html": [
       "<table>\n",
       "<tbody>\n",
       "<tr><td>name   </td><td>PPN              </td><td>PA                   </td><td>kNN                  </td><td>SVM                  </td><td>DT                   </td><td>M_NB                 </td><td>B_NB                 </td><td>RF                  </td><td>SGd               </td><td>NC </td><td>BEST_CLF_FROM     </td></tr>\n",
       "<tr><td>acuracy</td><td>0.4              </td><td>0.7666666666666667   </td><td>0.9666666666666667   </td><td>0.9666666666666667   </td><td>0.9333333333333333   </td><td>0.9666666666666667   </td><td>0.3                  </td><td>0.9666666666666667  </td><td>0.7333333333333333</td><td>0.9</td><td>IRIS DATA         </td></tr>\n",
       "<tr><td>train  </td><td>0.003997802734375</td><td>0.0010504722595214844</td><td>0.0009992122650146484</td><td>0.0009996891021728516</td><td>0.0009999275207519531</td><td>0.0019986629486083984</td><td>0.0010004043579101562</td><td>0.20308423042297363 </td><td>0.0               </td><td>0.0</td><td>kNN               </td></tr>\n",
       "<tr><td>test   </td><td>0.0              </td><td>0.0                  </td><td>0.003995656967163086 </td><td>0.0                  </td><td>0.0                  </td><td>0.0                  </td><td>0.0                  </td><td>0.015623807907104492</td><td>0.0               </td><td>0.0</td><td>0.9666666666666667</td></tr>\n",
       "</tbody>\n",
       "</table>"
      ],
      "text/plain": [
       "<IPython.core.display.HTML object>"
      ]
     },
     "metadata": {},
     "output_type": "display_data"
    }
   ],
   "source": [
    "final_list=df1.values.tolist()\n",
    "final_list=np.array(final_list)\n",
    "display(HTML(tabulate.tabulate(final_list, tablefmt='html')))"
   ]
  },
  {
   "cell_type": "markdown",
   "metadata": {},
   "source": [
    "## Plotting the Graph"
   ]
  },
  {
   "cell_type": "code",
   "execution_count": 16,
   "metadata": {},
   "outputs": [
    {
     "data": {
      "image/png": "[encoded data removed]",
      "text/plain": [
       "<Figure size 864x576 with 1 Axes>"
      ]
     },
     "metadata": {
      "needs_background": "light"
     },
     "output_type": "display_data"
    }
   ],
   "source": [
    "plt.figure(figsize=(12, 8))\n",
    "plt.title(\"Comparision of Classifiers\")\n",
    "plt.barh(indices, score, .2, label=\"Accuracy\", color='navy')\n",
    "plt.barh(indices + .3, training_time, .2, label=\"training time\",color='c')\n",
    "plt.barh(indices + .6, test_time, .2, label=\"test time\", color='darkorange')\n",
    "plt.yticks(())\n",
    "plt.legend(loc='best')\n",
    "plt.subplots_adjust(left=.25)\n",
    "plt.subplots_adjust(top=.95)\n",
    "plt.subplots_adjust(bottom=.05)\n",
    "\n",
    "for i, c in zip(indices, name1):\n",
    "    plt.text(-.1, i, c)\n",
    "\n",
    "plt.show()"
   ]
  },
  {
   "cell_type": "code",
   "execution_count": null,
   "metadata": {},
   "outputs": [],
   "source": []
  }
 ],
 "metadata": {
  "kernelspec": {
   "display_name": "Python 3",
   "language": "python",
   "name": "python3"
  },
  "language_info": {
   "codemirror_mode": {
    "name": "ipython",
    "version": 3
   },
   "file_extension": ".py",
   "mimetype": "text/x-python",
   "name": "python",
   "nbconvert_exporter": "python",
   "pygments_lexer": "ipython3",
   "version": "3.6.8"
  }
 },
 "nbformat": 4,
 "nbformat_minor": 2
}
