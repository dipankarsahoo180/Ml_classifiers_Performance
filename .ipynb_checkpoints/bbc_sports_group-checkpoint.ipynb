{
 "cells": [
  {
   "cell_type": "markdown",
   "metadata": {},
   "source": [
    "# BBC SPORTS"
   ]
  },
  {
   "cell_type": "code",
   "execution_count": 13,
   "metadata": {},
   "outputs": [],
   "source": [
    "#Text classification using machine learning Algorithms for BBC News\n",
    "import numpy as np\n",
    "from sklearn.datasets import load_files\n",
    "import sys\n",
    "from time import time\n",
    "import matplotlib.pyplot as plt\n",
    "from sklearn.feature_extraction.text import CountVectorizer\n",
    "from sklearn.feature_extraction.text import TfidfTransformer\n",
    "\n",
    "\n",
    "from sklearn import tree\n",
    "from sklearn.svm import LinearSVC\n",
    "from sklearn.linear_model import Perceptron\n",
    "from sklearn.naive_bayes import BernoulliNB, MultinomialNB\n",
    "from sklearn.neighbors import KNeighborsClassifier\n",
    "from sklearn.utils.extmath import density\n",
    "from sklearn import metrics\n",
    "from sklearn.model_selection import train_test_split\n",
    "import nltk\n"
   ]
  },
  {
   "cell_type": "markdown",
   "metadata": {},
   "source": [
    "## Fetching & Training the data"
   ]
  },
  {
   "cell_type": "code",
   "execution_count": 14,
   "metadata": {},
   "outputs": [
    {
     "name": "stdout",
     "output_type": "stream",
     "text": [
      "737\n",
      "['athletics', 'cricket', 'football', 'rugby', 'tennis']\n",
      "(737, 8285)\n",
      "data loaded\n"
     ]
    }
   ],
   "source": [
    "bbcdir = r'D:\\proj\\DATASET\\bbcsport'\n",
    "bbc_train = load_files(bbcdir, shuffle=True)\n",
    "print(len(bbc_train.data))\n",
    "target_names=bbc_train.target_names\n",
    "print(target_names)\n",
    "bbc_vec = CountVectorizer(min_df=2, tokenizer=nltk.word_tokenize, encoding='latin-1')\n",
    "bbc_counts = bbc_vec.fit_transform(bbc_train.data)\n",
    "tfidf_transformer = TfidfTransformer()\n",
    "tfidf_transformer = TfidfTransformer()\n",
    "bbc_tfidf = tfidf_transformer.fit_transform(bbc_counts)\n",
    "print(bbc_tfidf.shape)\n",
    "X_train, X_test, y_train, y_test = train_test_split(\n",
    "    bbc_tfidf, bbc_train.target, test_size = 0.20, random_state = 12)\n",
    "\n",
    "print('data loaded')"
   ]
  },
  {
   "cell_type": "markdown",
   "metadata": {},
   "source": [
    "##  Using the function"
   ]
  },
  {
   "cell_type": "code",
   "execution_count": 15,
   "metadata": {},
   "outputs": [],
   "source": [
    "def benchmark(clf,name):\n",
    "    print('_' * 80)\n",
    "    print(\"Training: \")\n",
    "\t\n",
    "    t0 = time()\n",
    "    clf.fit(X_train, y_train)\n",
    "    train_time = time() - t0\n",
    "    print(\"train time: %0.3fs\" % train_time)\n",
    "\t\n",
    "    t0 = time() \n",
    "    pred = clf.predict(X_test)\n",
    "    test_time = time() - t0\n",
    "    print(\"test time:  %0.3fs\" % test_time)\n",
    "\t\n",
    "    score = metrics.accuracy_score(y_test, pred)\n",
    "    print(\"accuracy:   %0.4f\" % score)\n",
    "    print(\"\\nprecision score=%0.4f\" %metrics.precision_score(y_test,pred,average='macro'))\n",
    "    print(\"\\nRecall Score=%0.4f\" %metrics.recall_score(y_test,pred,average='macro'))\n",
    "    print(\"confusion matrix:\")\n",
    "    print(metrics.confusion_matrix(y_test, pred))\n",
    "    clf_descr = str(clf).split('(')[0]\n",
    "    class_name =str(name).split('(')[0]\n",
    "    return class_name, score,train_time, test_time"
   ]
  },
  {
   "cell_type": "markdown",
   "metadata": {},
   "source": [
    "## Printing the Results"
   ]
  },
  {
   "cell_type": "code",
   "execution_count": 16,
   "metadata": {},
   "outputs": [
    {
     "name": "stdout",
     "output_type": "stream",
     "text": [
      "================================================================================\n",
      "PPN\n",
      "________________________________________________________________________________\n",
      "Training: \n",
      "train time: 0.030s\n",
      "test time:  0.002s\n",
      "accuracy:   0.9865\n",
      "\n",
      "precision score=0.9881\n",
      "\n",
      "Recall Score=0.9852\n",
      "confusion matrix:\n",
      "[[20  0  0  0  0]\n",
      " [ 0 25  1  1  0]\n",
      " [ 0  0 55  0  0]\n",
      " [ 0  0  0 23  0]\n",
      " [ 0  0  0  0 23]]\n",
      "================================================================================\n",
      "kNN\n",
      "________________________________________________________________________________\n",
      "Training: \n",
      "train time: 0.002s\n",
      "test time:  0.029s\n",
      "accuracy:   0.9527\n",
      "\n",
      "precision score=0.9567\n",
      "\n",
      "Recall Score=0.9518\n",
      "confusion matrix:\n",
      "[[20  0  0  0  0]\n",
      " [ 0 25  1  1  0]\n",
      " [ 0  0 53  2  0]\n",
      " [ 0  0  0 23  0]\n",
      " [ 1  0  2  0 20]]\n",
      "================================================================================\n",
      "SVM\n",
      "________________________________________________________________________________\n",
      "Training: \n",
      "train time: 0.063s\n",
      "test time:  0.001s\n",
      "accuracy:   0.9865\n",
      "\n",
      "precision score=0.9930\n",
      "\n",
      "Recall Score=0.9852\n",
      "confusion matrix:\n",
      "[[20  0  0  0  0]\n",
      " [ 0 25  2  0  0]\n",
      " [ 0  0 55  0  0]\n",
      " [ 0  0  0 23  0]\n",
      " [ 0  0  0  0 23]]\n",
      "================================================================================\n",
      "DT\n",
      "________________________________________________________________________________\n",
      "Training: \n",
      "train time: 0.184s\n",
      "test time:  0.002s\n",
      "accuracy:   0.8649\n",
      "\n",
      "precision score=0.8741\n",
      "\n",
      "Recall Score=0.8439\n",
      "confusion matrix:\n",
      "[[20  0  0  0  0]\n",
      " [ 0 21  2  4  0]\n",
      " [ 2  0 53  0  0]\n",
      " [ 0  2  1 20  0]\n",
      " [ 2  0  4  3 14]]\n",
      "================================================================================\n",
      "M_NB\n",
      "________________________________________________________________________________\n",
      "Training: \n",
      "train time: 0.005s\n",
      "test time:  0.001s\n",
      "accuracy:   0.9865\n",
      "\n",
      "precision score=0.9930\n",
      "\n",
      "Recall Score=0.9852\n",
      "confusion matrix:\n",
      "[[20  0  0  0  0]\n",
      " [ 0 25  2  0  0]\n",
      " [ 0  0 55  0  0]\n",
      " [ 0  0  0 23  0]\n",
      " [ 0  0  0  0 23]]\n",
      "================================================================================\n",
      "B_NB\n",
      "________________________________________________________________________________\n",
      "Training: \n",
      "train time: 0.005s\n",
      "test time:  0.003s\n",
      "accuracy:   0.9662\n",
      "\n",
      "precision score=0.9833\n",
      "\n",
      "Recall Score=0.9591\n",
      "confusion matrix:\n",
      "[[20  0  0  0  0]\n",
      " [ 0 25  2  0  0]\n",
      " [ 0  0 55  0  0]\n",
      " [ 0  0  1 22  0]\n",
      " [ 0  0  2  0 21]]\n",
      "[0 1 2 3 4 5]\n",
      "[['PPN', 'kNN', 'SVM', 'DT', 'M_NB', 'B_NB'], [0.9864864864864865, 0.9527027027027027, 0.9864864864864865, 0.8648648648648649, 0.9864864864864865, 0.9662162162162162], [0.02998042106628418, 0.001995563507080078, 0.06296181678771973, 0.18388867378234863, 0.004997730255126953, 0.0049974918365478516], [0.002000570297241211, 0.028978347778320312, 0.0009999275207519531, 0.001999378204345703, 0.0009987354278564453, 0.0029973983764648438]]\n"
     ]
    }
   ],
   "source": [
    "\n",
    "results = []\n",
    "#RESULTS=[NAME_OF_ALGO ACCURACY TRAIN_TIME TEST-TIME]\n",
    "for clf, name in ((Perceptron(max_iter=50, tol=1e-3),\"PPN\"),\n",
    "                   (KNeighborsClassifier(n_neighbors=10), \"kNN\"),\n",
    "                   (LinearSVC(penalty=\"l2\", dual=False,tol=1e-3),\"SVM\"),\n",
    "                   (tree.DecisionTreeClassifier(),\"DT\"),\n",
    "                   (MultinomialNB(alpha=.01),\"M_NB\"),\n",
    "                   (BernoulliNB(alpha=.01),\"B_NB\"),\n",
    "                 ):\n",
    "    print('=' * 80)\n",
    "    print(name)\n",
    "    results.append(benchmark(clf,name))\n",
    "\n",
    "indices = np.arange(len(results))\n",
    "results = [[x[i] for x in results] for i in range(4)]\n",
    "name1, score,training_time, test_time= results\n",
    "training_time = np.array(training_time) / np.max(training_time)\n",
    "test_time = np.array(test_time) / np.max(test_time)\n",
    "print(indices)\n",
    "print(results)"
   ]
  },
  {
   "cell_type": "markdown",
   "metadata": {},
   "source": [
    "## PREDICTING THE MAXIMUM ACURACY AND NAME OF THE ALGORITHM"
   ]
  },
  {
   "cell_type": "code",
   "execution_count": 17,
   "metadata": {},
   "outputs": [
    {
     "name": "stdout",
     "output_type": "stream",
     "text": [
      "Maximmum accuracy is by:   PPN\n",
      "Maximmum accuracy is :   0.9865\n"
     ]
    },
    {
     "data": {
      "text/plain": [
       "['BBC SPORTS GROUP', 'PPN', 0.9864864864864865]"
      ]
     },
     "execution_count": 17,
     "metadata": {},
     "output_type": "execute_result"
    }
   ],
   "source": [
    "from copy import*\n",
    "def scope(word, list, indexes = None):\n",
    "    result = []\n",
    "    if not indexes:\n",
    "        indexes = []\n",
    "    for index, item in enumerate(list):\n",
    "        try:\n",
    "            current_index = indexes + [index]\n",
    "            result.append(current_index + [item.index(word)])\n",
    "        except ValueError:\n",
    "            pass\n",
    "\n",
    "        if type(item[0]) == type([]):\n",
    "            indexes.append(index)\n",
    "            result.extend(scope(word, item, copy(indexes)))\n",
    "\n",
    "    return result\n",
    "d_list = [['a', 'b', 'new','dsds', 'mpilgrim','new'],\n",
    "          [['a', 'b', 'new', 'raja','mpilgrim', 'new'],['b', 'd', 'new', 'mpilgrim', 'new']]]\n",
    "# word1='mpilgrim'\n",
    "# result1 = scope(word1,d_list)\n",
    "# print(result1)\n",
    "listObject12=[]\n",
    "word = max(score)\n",
    "result = scope(word,results)\n",
    "algo=result[0]\n",
    "i=algo[0]\n",
    "j=algo[1]\n",
    "k=i-1\n",
    "print('Maximmum accuracy is by:  ',results[k][j])\n",
    "print(\"Maximmum accuracy is :   %0.4f\" %max(score))\n",
    "dataset_name=\"BBC SPORTS GROUP\"\n",
    "algorithm=results[k][j]\n",
    "accuracy=max(score)\n",
    "listObject12.extend((dataset_name,algorithm,accuracy))\n",
    "listObject12"
   ]
  },
  {
   "cell_type": "markdown",
   "metadata": {},
   "source": [
    "## Plotting the Graph"
   ]
  },
  {
   "cell_type": "code",
   "execution_count": 18,
   "metadata": {},
   "outputs": [
    {
     "data": {
      "image/png": "[encoded data removed]",
      "text/plain": [
       "<Figure size 864x576 with 1 Axes>"
      ]
     },
     "metadata": {
      "needs_background": "light"
     },
     "output_type": "display_data"
    }
   ],
   "source": [
    "plt.figure(figsize=(12, 8))\n",
    "plt.title(\"Comparision of Classifiers\")\n",
    "plt.barh(indices, score, .2, label=\"Accuracy\", color='navy')\n",
    "plt.barh(indices + .3, training_time, .2, label=\"training time\",\n",
    "         color='c')\n",
    "plt.barh(indices + .6, test_time, .2, label=\"test time\", color='darkorange')\n",
    "plt.yticks(())\n",
    "plt.legend(loc='best')\n",
    "plt.subplots_adjust(left=.25)\n",
    "plt.subplots_adjust(top=.95)\n",
    "plt.subplots_adjust(bottom=.05)\n",
    "\n",
    "for i, c in zip(indices, name1):\n",
    "    plt.text(-.1, i, c)\n",
    "\n",
    "plt.show()"
   ]
  },
  {
   "cell_type": "code",
   "execution_count": null,
   "metadata": {},
   "outputs": [],
   "source": []
  },
  {
   "cell_type": "code",
   "execution_count": null,
   "metadata": {},
   "outputs": [],
   "source": []
  }
 ],
 "metadata": {
  "kernelspec": {
   "display_name": "Python 3",
   "language": "python",
   "name": "python3"
  },
  "language_info": {
   "codemirror_mode": {
    "name": "ipython",
    "version": 3
   },
   "file_extension": ".py",
   "mimetype": "text/x-python",
   "name": "python",
   "nbconvert_exporter": "python",
   "pygments_lexer": "ipython3",
   "version": "3.6.8"
  }
 },
 "nbformat": 4,
 "nbformat_minor": 2
}
